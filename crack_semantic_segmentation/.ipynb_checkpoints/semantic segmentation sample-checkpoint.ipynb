{
 "cells": [
  {
   "cell_type": "code",
   "execution_count": 2,
   "metadata": {
    "pycharm": {
     "is_executing": true
    }
   },
   "outputs": [
    {
     "name": "stdout",
     "output_type": "stream",
     "text": [
      "Collecting git+https://github.com/tensorflow/examples.git\n",
      "  Cloning https://github.com/tensorflow/examples.git to /private/var/folders/dz/f22z0xl57nb0nwp0v3kcnmhc0000gn/T/pip-req-build-7mv_my1g\n",
      "  Running command git clone -q https://github.com/tensorflow/examples.git /private/var/folders/dz/f22z0xl57nb0nwp0v3kcnmhc0000gn/T/pip-req-build-7mv_my1g\n",
      "Requirement already satisfied: absl-py in /Users/joonhwi/Desktop/KAU/4-2/딥러닝 응용/crack_semantic_segmentation/lib/python3.10/site-packages (from tensorflow-examples===3df76a9e45e3a1d6165e42c565a2f8622f7c1f8c-) (1.4.0)\n",
      "Requirement already satisfied: six in /Users/joonhwi/Desktop/KAU/4-2/딥러닝 응용/crack_semantic_segmentation/lib/python3.10/site-packages (from tensorflow-examples===3df76a9e45e3a1d6165e42c565a2f8622f7c1f8c-) (1.16.0)\n",
      "\u001b[33mWARNING: You are using pip version 21.1.2; however, version 23.1 is available.\n",
      "You should consider upgrading via the '/Users/joonhwi/Desktop/KAU/4-2/딥러닝 응용/crack_semantic_segmentation/bin/python -m pip install --upgrade pip' command.\u001b[0m\n"
     ]
    }
   ],
   "source": [
    "!pip install git+https://github.com/tensorflow/examples.git"
   ]
  },
  {
   "cell_type": "code",
   "execution_count": 3,
   "metadata": {},
   "outputs": [
    {
     "name": "stdout",
     "output_type": "stream",
     "text": [
      "Collecting git+https://github.com/tensorflow/examples.git\n",
      "  Cloning https://github.com/tensorflow/examples.git to /private/var/folders/dz/f22z0xl57nb0nwp0v3kcnmhc0000gn/T/pip-req-build-da_8esn8\n",
      "  Running command git clone -q https://github.com/tensorflow/examples.git /private/var/folders/dz/f22z0xl57nb0nwp0v3kcnmhc0000gn/T/pip-req-build-da_8esn8\n",
      "Requirement already satisfied: absl-py in /Users/joonhwi/Desktop/KAU/4-2/딥러닝 응용/crack_semantic_segmentation/lib/python3.10/site-packages (from tensorflow-examples===3df76a9e45e3a1d6165e42c565a2f8622f7c1f8c-) (1.4.0)\n",
      "Requirement already satisfied: six in /Users/joonhwi/Desktop/KAU/4-2/딥러닝 응용/crack_semantic_segmentation/lib/python3.10/site-packages (from tensorflow-examples===3df76a9e45e3a1d6165e42c565a2f8622f7c1f8c-) (1.16.0)\n",
      "\u001b[33mWARNING: You are using pip version 21.1.2; however, version 23.1 is available.\n",
      "You should consider upgrading via the '/Users/joonhwi/Desktop/KAU/4-2/딥러닝 응용/crack_semantic_segmentation/bin/python -m pip install --upgrade pip' command.\u001b[0m\n"
     ]
    }
   ],
   "source": [
    "!pip install git+https://github.com/tensorflow/examples.git"
   ]
  },
  {
   "cell_type": "code",
   "execution_count": 5,
   "metadata": {},
   "outputs": [
    {
     "name": "stdout",
     "output_type": "stream",
     "text": [
      "\u001b[31mERROR: Could not find a version that satisfies the requirement tensorflow (from versions: none)\u001b[0m\r\n",
      "\u001b[31mERROR: No matching distribution found for tensorflow\u001b[0m\r\n",
      "\u001b[33mWARNING: You are using pip version 21.1.2; however, version 23.1 is available.\r\n",
      "You should consider upgrading via the '/Users/joonhwi/Desktop/KAU/4-2/딥러닝 응용/crack_semantic_segmentation/bin/python -m pip install --upgrade pip' command.\u001b[0m\r\n"
     ]
    }
   ],
   "source": [
    "!pip install tensorflow"
   ]
  },
  {
   "cell_type": "code",
   "execution_count": 4,
   "metadata": {},
   "outputs": [
    {
     "ename": "ModuleNotFoundError",
     "evalue": "No module named 'tensorflow'",
     "output_type": "error",
     "traceback": [
      "\u001b[0;31m---------------------------------------------------------------------------\u001b[0m",
      "\u001b[0;31mModuleNotFoundError\u001b[0m                       Traceback (most recent call last)",
      "Cell \u001b[0;32mIn[4], line 1\u001b[0m\n\u001b[0;32m----> 1\u001b[0m \u001b[38;5;28;01mimport\u001b[39;00m \u001b[38;5;21;01mtensorflow\u001b[39;00m \u001b[38;5;28;01mas\u001b[39;00m \u001b[38;5;21;01mtf\u001b[39;00m\n\u001b[1;32m      2\u001b[0m \u001b[38;5;28;01mimport\u001b[39;00m \u001b[38;5;21;01mtensorflow_datasets\u001b[39;00m \u001b[38;5;28;01mas\u001b[39;00m \u001b[38;5;21;01mtfds\u001b[39;00m\n\u001b[1;32m      3\u001b[0m \u001b[38;5;28;01mfrom\u001b[39;00m \u001b[38;5;21;01mtensorflow_examples\u001b[39;00m\u001b[38;5;21;01m.\u001b[39;00m\u001b[38;5;21;01mmodels\u001b[39;00m\u001b[38;5;21;01m.\u001b[39;00m\u001b[38;5;21;01mpix2pix\u001b[39;00m \u001b[38;5;28;01mimport\u001b[39;00m pix2pix\n",
      "\u001b[0;31mModuleNotFoundError\u001b[0m: No module named 'tensorflow'"
     ]
    }
   ],
   "source": [
    "import tensorflow as tf\n",
    "import tensorflow_datasets as tfds\n",
    "from tensorflow_examples.models.pix2pix import pix2pix\n",
    "from IPython.display import clear_output\n",
    "import matplotlib.pyplot as plt"
   ]
  }
 ],
 "metadata": {
  "kernelspec": {
   "display_name": "Python 3 (ipykernel)",
   "language": "python",
   "name": "python3"
  },
  "language_info": {
   "codemirror_mode": {
    "name": "ipython",
    "version": 3
   },
   "file_extension": ".py",
   "mimetype": "text/x-python",
   "name": "python",
   "nbconvert_exporter": "python",
   "pygments_lexer": "ipython3",
   "version": "3.10.1"
  }
 },
 "nbformat": 4,
 "nbformat_minor": 1
}
